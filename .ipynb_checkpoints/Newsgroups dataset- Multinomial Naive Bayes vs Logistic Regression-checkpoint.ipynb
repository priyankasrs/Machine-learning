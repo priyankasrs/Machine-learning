{
 "cells": [
  {
   "cell_type": "markdown",
   "metadata": {},
   "source": [
    "## 2. Newsgroups dataset- Multinomial Naive Bayes vs Logistic Regression"
   ]
  },
  {
   "cell_type": "markdown",
   "metadata": {},
   "source": [
    "### Data Vizualization"
   ]
  },
  {
   "cell_type": "code",
   "execution_count": 82,
   "metadata": {},
   "outputs": [],
   "source": [
    "from sklearn.datasets import fetch_20newsgroups\n",
    "from pprint import pprint\n",
    "from sklearn.model_selection import train_test_split\n",
    "import pandas as pd\n",
    "import numpy as np"
   ]
  },
  {
   "cell_type": "code",
   "execution_count": 75,
   "metadata": {},
   "outputs": [],
   "source": [
    "categories = ['rec.autos', 'rec.motorcycles','rec.sport.baseball',\n",
    "    'rec.sport.hockey',]"
   ]
  },
  {
   "cell_type": "code",
   "execution_count": 91,
   "metadata": {},
   "outputs": [
    {
     "data": {
      "text/html": [
       "<div>\n",
       "<style scoped>\n",
       "    .dataframe tbody tr th:only-of-type {\n",
       "        vertical-align: middle;\n",
       "    }\n",
       "\n",
       "    .dataframe tbody tr th {\n",
       "        vertical-align: top;\n",
       "    }\n",
       "\n",
       "    .dataframe thead th {\n",
       "        text-align: right;\n",
       "    }\n",
       "</style>\n",
       "<table border=\"1\" class=\"dataframe\">\n",
       "  <thead>\n",
       "    <tr style=\"text-align: right;\">\n",
       "      <th></th>\n",
       "      <th>data</th>\n",
       "      <th>target</th>\n",
       "    </tr>\n",
       "  </thead>\n",
       "  <tbody>\n",
       "    <tr>\n",
       "      <th>0</th>\n",
       "      <td>\\nIMO any good player should score on power pl...</td>\n",
       "      <td>3</td>\n",
       "    </tr>\n",
       "    <tr>\n",
       "      <th>1</th>\n",
       "      <td>\\nGermans are just more organised; you can't b...</td>\n",
       "      <td>0</td>\n",
       "    </tr>\n",
       "    <tr>\n",
       "      <th>2</th>\n",
       "      <td>\\n I know that there wasn't other games on the...</td>\n",
       "      <td>3</td>\n",
       "    </tr>\n",
       "    <tr>\n",
       "      <th>3</th>\n",
       "      <td>\\nOooo,I hope it's nothing like I had on my Se...</td>\n",
       "      <td>1</td>\n",
       "    </tr>\n",
       "    <tr>\n",
       "      <th>4</th>\n",
       "      <td>in maryland, they were $25 each when i learned...</td>\n",
       "      <td>1</td>\n",
       "    </tr>\n",
       "    <tr>\n",
       "      <th>5</th>\n",
       "      <td>Actually, there can be any number of players o...</td>\n",
       "      <td>2</td>\n",
       "    </tr>\n",
       "    <tr>\n",
       "      <th>6</th>\n",
       "      <td>\\tHahahahahaha.  *gasp*  *pant*  Hm, I'm not s...</td>\n",
       "      <td>0</td>\n",
       "    </tr>\n",
       "    <tr>\n",
       "      <th>7</th>\n",
       "      <td></td>\n",
       "      <td>0</td>\n",
       "    </tr>\n",
       "    <tr>\n",
       "      <th>8</th>\n",
       "      <td>\\n\\t\\t\\t     ^^^^^^^^^^^^^^^^^^^^^^^^^^^\\nBeca...</td>\n",
       "      <td>1</td>\n",
       "    </tr>\n",
       "    <tr>\n",
       "      <th>9</th>\n",
       "      <td></td>\n",
       "      <td>2</td>\n",
       "    </tr>\n",
       "    <tr>\n",
       "      <th>10</th>\n",
       "      <td>\\nApparently the instinct to brake in the face...</td>\n",
       "      <td>1</td>\n",
       "    </tr>\n",
       "    <tr>\n",
       "      <th>11</th>\n",
       "      <td>\\nOnly if he was a \"true motorcyclist with the...</td>\n",
       "      <td>1</td>\n",
       "    </tr>\n",
       "    <tr>\n",
       "      <th>12</th>\n",
       "      <td>\\nThis is a fine strategy if you expect to run...</td>\n",
       "      <td>2</td>\n",
       "    </tr>\n",
       "    <tr>\n",
       "      <th>13</th>\n",
       "      <td>Here is a press release from the U.S. Departme...</td>\n",
       "      <td>0</td>\n",
       "    </tr>\n",
       "    <tr>\n",
       "      <th>14</th>\n",
       "      <td>\\nMethinks you recall wrong. Mitchell hit clos...</td>\n",
       "      <td>2</td>\n",
       "    </tr>\n",
       "    <tr>\n",
       "      <th>15</th>\n",
       "      <td>: \\n: &gt;I bought it, I tried it:\\n: \\n: &gt;It is,...</td>\n",
       "      <td>1</td>\n",
       "    </tr>\n",
       "    <tr>\n",
       "      <th>16</th>\n",
       "      <td>RA&gt;    Here's the point: there are far too man...</td>\n",
       "      <td>3</td>\n",
       "    </tr>\n",
       "    <tr>\n",
       "      <th>17</th>\n",
       "      <td>True rumor.  Fact!  A big three way deal!\\n\\nE...</td>\n",
       "      <td>3</td>\n",
       "    </tr>\n",
       "    <tr>\n",
       "      <th>18</th>\n",
       "      <td>\\n\\nI'm confused.  How is it Hal McRae's fault...</td>\n",
       "      <td>2</td>\n",
       "    </tr>\n",
       "    <tr>\n",
       "      <th>19</th>\n",
       "      <td>\\n\\nTrue, coach Matikainen is ready to keep a ...</td>\n",
       "      <td>3</td>\n",
       "    </tr>\n",
       "    <tr>\n",
       "      <th>20</th>\n",
       "      <td>Folks,\\n\\nI am assembling info for a Film Crit...</td>\n",
       "      <td>1</td>\n",
       "    </tr>\n",
       "    <tr>\n",
       "      <th>21</th>\n",
       "      <td>\\n \\nNo....Hal McRae is the worst manager in ...</td>\n",
       "      <td>2</td>\n",
       "    </tr>\n",
       "    <tr>\n",
       "      <th>22</th>\n",
       "      <td>\\n\\tHow about some citations or is this just i...</td>\n",
       "      <td>1</td>\n",
       "    </tr>\n",
       "    <tr>\n",
       "      <th>23</th>\n",
       "      <td>I need some advice on having someone ride pill...</td>\n",
       "      <td>1</td>\n",
       "    </tr>\n",
       "    <tr>\n",
       "      <th>24</th>\n",
       "      <td>\\nA Yugo that will go 1/4mi in 7.7 seconds wil...</td>\n",
       "      <td>0</td>\n",
       "    </tr>\n",
       "    <tr>\n",
       "      <th>25</th>\n",
       "      <td>\\n\\nI had a similar experience.  We had a writ...</td>\n",
       "      <td>0</td>\n",
       "    </tr>\n",
       "    <tr>\n",
       "      <th>26</th>\n",
       "      <td>Steve Tuttle was traded from the Blues to TB...</td>\n",
       "      <td>3</td>\n",
       "    </tr>\n",
       "    <tr>\n",
       "      <th>27</th>\n",
       "      <td>A lot of teams carry 3 catchers on their 25 ma...</td>\n",
       "      <td>2</td>\n",
       "    </tr>\n",
       "    <tr>\n",
       "      <th>28</th>\n",
       "      <td>\\nThe FT-500 is a good beginner's bike with:\\n...</td>\n",
       "      <td>1</td>\n",
       "    </tr>\n",
       "    <tr>\n",
       "      <th>29</th>\n",
       "      <td>For those of you who are thinking about fiamms...</td>\n",
       "      <td>1</td>\n",
       "    </tr>\n",
       "    <tr>\n",
       "      <th>...</th>\n",
       "      <td>...</td>\n",
       "      <td>...</td>\n",
       "    </tr>\n",
       "    <tr>\n",
       "      <th>3949</th>\n",
       "      <td>} How does one read the betting spreads for ba...</td>\n",
       "      <td>2</td>\n",
       "    </tr>\n",
       "    <tr>\n",
       "      <th>3950</th>\n",
       "      <td>The Hawks won the Norris div, and sealed their...</td>\n",
       "      <td>3</td>\n",
       "    </tr>\n",
       "    <tr>\n",
       "      <th>3951</th>\n",
       "      <td>Derek....\\n\\nThere is a tool available to rese...</td>\n",
       "      <td>0</td>\n",
       "    </tr>\n",
       "    <tr>\n",
       "      <th>3952</th>\n",
       "      <td></td>\n",
       "      <td>2</td>\n",
       "    </tr>\n",
       "    <tr>\n",
       "      <th>3953</th>\n",
       "      <td>\\nNo comparison. The BEL is just a hooped up w...</td>\n",
       "      <td>0</td>\n",
       "    </tr>\n",
       "    <tr>\n",
       "      <th>3954</th>\n",
       "      <td>Just out of curiosity, what happened to the we...</td>\n",
       "      <td>2</td>\n",
       "    </tr>\n",
       "    <tr>\n",
       "      <th>3955</th>\n",
       "      <td>Excerpts from rec.autos: 26-Apr-93 Re: REVIEW:...</td>\n",
       "      <td>0</td>\n",
       "    </tr>\n",
       "    <tr>\n",
       "      <th>3956</th>\n",
       "      <td>\\nI'm not sure about the helmet but for chin q...</td>\n",
       "      <td>1</td>\n",
       "    </tr>\n",
       "    <tr>\n",
       "      <th>3957</th>\n",
       "      <td>\\nYes, he does.  BUT, the goalie sure as hell ...</td>\n",
       "      <td>3</td>\n",
       "    </tr>\n",
       "    <tr>\n",
       "      <th>3958</th>\n",
       "      <td>: I am in the market for a bike and have recen...</td>\n",
       "      <td>1</td>\n",
       "    </tr>\n",
       "    <tr>\n",
       "      <th>3959</th>\n",
       "      <td>Rob Reilly:\\n\\n\\nThis is just not so - many of...</td>\n",
       "      <td>0</td>\n",
       "    </tr>\n",
       "    <tr>\n",
       "      <th>3960</th>\n",
       "      <td>\\nIt was not just those penalties. Most of all...</td>\n",
       "      <td>3</td>\n",
       "    </tr>\n",
       "    <tr>\n",
       "      <th>3961</th>\n",
       "      <td>} Last night, Boston Red Sox win its 11 games ...</td>\n",
       "      <td>2</td>\n",
       "    </tr>\n",
       "    <tr>\n",
       "      <th>3962</th>\n",
       "      <td>\\nActually it was in the third period, his ret...</td>\n",
       "      <td>3</td>\n",
       "    </tr>\n",
       "    <tr>\n",
       "      <th>3963</th>\n",
       "      <td>What worked for me on my RD350 was to lean tow...</td>\n",
       "      <td>1</td>\n",
       "    </tr>\n",
       "    <tr>\n",
       "      <th>3964</th>\n",
       "      <td>As I promised, I would give you the name of th...</td>\n",
       "      <td>3</td>\n",
       "    </tr>\n",
       "    <tr>\n",
       "      <th>3965</th>\n",
       "      <td>A local dealer is advertising \"No negotiation ...</td>\n",
       "      <td>0</td>\n",
       "    </tr>\n",
       "    <tr>\n",
       "      <th>3966</th>\n",
       "      <td>Sender: \\nReply-To: harmons@gyro.WV.TEK.COM (H...</td>\n",
       "      <td>1</td>\n",
       "    </tr>\n",
       "    <tr>\n",
       "      <th>3967</th>\n",
       "      <td>I have tickets for the TB Giants and I was won...</td>\n",
       "      <td>2</td>\n",
       "    </tr>\n",
       "    <tr>\n",
       "      <th>3968</th>\n",
       "      <td>\\n[deleted]\\n\\n\\nKeep in mind this was in Mass...</td>\n",
       "      <td>2</td>\n",
       "    </tr>\n",
       "    <tr>\n",
       "      <th>3969</th>\n",
       "      <td>\\nTake up residence in a fantasy world. \\n</td>\n",
       "      <td>1</td>\n",
       "    </tr>\n",
       "    <tr>\n",
       "      <th>3970</th>\n",
       "      <td>\\n\\tThat I did not do; however, the sample bol...</td>\n",
       "      <td>1</td>\n",
       "    </tr>\n",
       "    <tr>\n",
       "      <th>3971</th>\n",
       "      <td>\\n\\n\\n\\tAbsolutely. Early XS1100's were VERY g...</td>\n",
       "      <td>1</td>\n",
       "    </tr>\n",
       "    <tr>\n",
       "      <th>3972</th>\n",
       "      <td>Hi there,\\n\\n      I was wondering if anyone k...</td>\n",
       "      <td>2</td>\n",
       "    </tr>\n",
       "    <tr>\n",
       "      <th>3973</th>\n",
       "      <td>Today, Frank Viola and rest of pitcher staff o...</td>\n",
       "      <td>2</td>\n",
       "    </tr>\n",
       "    <tr>\n",
       "      <th>3974</th>\n",
       "      <td>Ok guys, I need a list of the teams who have b...</td>\n",
       "      <td>3</td>\n",
       "    </tr>\n",
       "    <tr>\n",
       "      <th>3975</th>\n",
       "      <td>I have an '89 Kawasaki KX 80.  It is in mint c...</td>\n",
       "      <td>1</td>\n",
       "    </tr>\n",
       "    <tr>\n",
       "      <th>3976</th>\n",
       "      <td>Does anybody have a GIF of the Tiger Stadium s...</td>\n",
       "      <td>2</td>\n",
       "    </tr>\n",
       "    <tr>\n",
       "      <th>3977</th>\n",
       "      <td>Nothing wrong with what Felix did.  The only p...</td>\n",
       "      <td>3</td>\n",
       "    </tr>\n",
       "    <tr>\n",
       "      <th>3978</th>\n",
       "      <td>\\n\\n  When the bugs are splatting on the side ...</td>\n",
       "      <td>1</td>\n",
       "    </tr>\n",
       "  </tbody>\n",
       "</table>\n",
       "<p>3979 rows × 2 columns</p>\n",
       "</div>"
      ],
      "text/plain": [
       "                                                   data  target\n",
       "0     \\nIMO any good player should score on power pl...       3\n",
       "1     \\nGermans are just more organised; you can't b...       0\n",
       "2     \\n I know that there wasn't other games on the...       3\n",
       "3     \\nOooo,I hope it's nothing like I had on my Se...       1\n",
       "4     in maryland, they were $25 each when i learned...       1\n",
       "5     Actually, there can be any number of players o...       2\n",
       "6     \\tHahahahahaha.  *gasp*  *pant*  Hm, I'm not s...       0\n",
       "7                                                             0\n",
       "8     \\n\\t\\t\\t     ^^^^^^^^^^^^^^^^^^^^^^^^^^^\\nBeca...       1\n",
       "9                                                             2\n",
       "10    \\nApparently the instinct to brake in the face...       1\n",
       "11    \\nOnly if he was a \"true motorcyclist with the...       1\n",
       "12    \\nThis is a fine strategy if you expect to run...       2\n",
       "13    Here is a press release from the U.S. Departme...       0\n",
       "14    \\nMethinks you recall wrong. Mitchell hit clos...       2\n",
       "15    : \\n: >I bought it, I tried it:\\n: \\n: >It is,...       1\n",
       "16    RA>    Here's the point: there are far too man...       3\n",
       "17    True rumor.  Fact!  A big three way deal!\\n\\nE...       3\n",
       "18    \\n\\nI'm confused.  How is it Hal McRae's fault...       2\n",
       "19    \\n\\nTrue, coach Matikainen is ready to keep a ...       3\n",
       "20    Folks,\\n\\nI am assembling info for a Film Crit...       1\n",
       "21     \\n \\nNo....Hal McRae is the worst manager in ...       2\n",
       "22    \\n\\tHow about some citations or is this just i...       1\n",
       "23    I need some advice on having someone ride pill...       1\n",
       "24    \\nA Yugo that will go 1/4mi in 7.7 seconds wil...       0\n",
       "25    \\n\\nI had a similar experience.  We had a writ...       0\n",
       "26      Steve Tuttle was traded from the Blues to TB...       3\n",
       "27    A lot of teams carry 3 catchers on their 25 ma...       2\n",
       "28    \\nThe FT-500 is a good beginner's bike with:\\n...       1\n",
       "29    For those of you who are thinking about fiamms...       1\n",
       "...                                                 ...     ...\n",
       "3949  } How does one read the betting spreads for ba...       2\n",
       "3950  The Hawks won the Norris div, and sealed their...       3\n",
       "3951  Derek....\\n\\nThere is a tool available to rese...       0\n",
       "3952                                                          2\n",
       "3953  \\nNo comparison. The BEL is just a hooped up w...       0\n",
       "3954  Just out of curiosity, what happened to the we...       2\n",
       "3955  Excerpts from rec.autos: 26-Apr-93 Re: REVIEW:...       0\n",
       "3956  \\nI'm not sure about the helmet but for chin q...       1\n",
       "3957  \\nYes, he does.  BUT, the goalie sure as hell ...       3\n",
       "3958  : I am in the market for a bike and have recen...       1\n",
       "3959  Rob Reilly:\\n\\n\\nThis is just not so - many of...       0\n",
       "3960  \\nIt was not just those penalties. Most of all...       3\n",
       "3961  } Last night, Boston Red Sox win its 11 games ...       2\n",
       "3962  \\nActually it was in the third period, his ret...       3\n",
       "3963  What worked for me on my RD350 was to lean tow...       1\n",
       "3964  As I promised, I would give you the name of th...       3\n",
       "3965  A local dealer is advertising \"No negotiation ...       0\n",
       "3966  Sender: \\nReply-To: harmons@gyro.WV.TEK.COM (H...       1\n",
       "3967  I have tickets for the TB Giants and I was won...       2\n",
       "3968  \\n[deleted]\\n\\n\\nKeep in mind this was in Mass...       2\n",
       "3969         \\nTake up residence in a fantasy world. \\n       1\n",
       "3970  \\n\\tThat I did not do; however, the sample bol...       1\n",
       "3971  \\n\\n\\n\\tAbsolutely. Early XS1100's were VERY g...       1\n",
       "3972  Hi there,\\n\\n      I was wondering if anyone k...       2\n",
       "3973  Today, Frank Viola and rest of pitcher staff o...       2\n",
       "3974  Ok guys, I need a list of the teams who have b...       3\n",
       "3975  I have an '89 Kawasaki KX 80.  It is in mint c...       1\n",
       "3976  Does anybody have a GIF of the Tiger Stadium s...       2\n",
       "3977  Nothing wrong with what Felix did.  The only p...       3\n",
       "3978  \\n\\n  When the bugs are splatting on the side ...       1\n",
       "\n",
       "[3979 rows x 2 columns]"
      ]
     },
     "execution_count": 91,
     "metadata": {},
     "output_type": "execute_result"
    }
   ],
   "source": [
    "import re\n",
    "file = fetch_20newsgroups(subset='all',remove=('headers', 'footers', 'quotes'), categories=categories,shuffle=True, random_state=42)\n",
    "X = file.data\n",
    "y = file.target\n",
    "df = pd.DataFrame(file,columns=['data', 'target'])\n",
    "df"
   ]
  },
  {
   "cell_type": "code",
   "execution_count": 98,
   "metadata": {},
   "outputs": [
    {
     "name": "stdout",
     "output_type": "stream",
     "text": [
      "[990, 996, 994, 999]\n"
     ]
    },
    {
     "data": {
      "image/png": "[encoded data removed]",
      "text/plain": [
       "<Figure size 432x288 with 1 Axes>"
      ]
     },
     "metadata": {},
     "output_type": "display_data"
    },
    {
     "data": {
      "text/plain": [
       "<function matplotlib.pyplot.legend(*args, **kwargs)>"
      ]
     },
     "execution_count": 98,
     "metadata": {},
     "output_type": "execute_result"
    }
   ],
   "source": [
    "import matplotlib.pyplot as plt\n",
    " \n",
    "#objects = ('Python', 'C++', 'Java', 'Perl', 'Scala', 'Lisp')\n",
    "y_pos = np.arange(len(categories))\n",
    "performance = [10,8,6,4,2,1]\n",
    "#'rec.autos', 'rec.motorcycles','rec.sport.baseball','rec.sport.hockey'\n",
    "count_categories = [0,0,0,0]\n",
    "for value in df['target']:\n",
    "    count_categories[value] += 1\n",
    "pprint(count_categories)\n",
    " \n",
    "plt.bar(y_pos, count_categories, align='center', alpha=0.5)\n",
    "plt.xticks(y_pos, categories)\n",
    "plt.ylabel('Count')\n",
    "plt.title('Count of different categories')\n",
    "# Text on the top of each barplot\n",
    "for i in range(len(r4)):\n",
    "    plt.text(x = r4[i]-0.5 , y = bars4[i]+0.1, s = label[i], size = 6)\n",
    " \n",
    "# Adjust the margins\n",
    "plt.subplots_adjust(bottom= 0.2, top = 0.98)\n",
    " \n",
    "plt.show()\n",
    "plt.legend"
   ]
  },
  {
   "cell_type": "markdown",
   "metadata": {},
   "source": [
    "### Data preprocessing"
   ]
  },
  {
   "cell_type": "markdown",
   "metadata": {},
   "source": [
    "    Removing punctuation and other special characters to clean up the text"
   ]
  },
  {
   "cell_type": "code",
   "execution_count": 60,
   "metadata": {},
   "outputs": [
    {
     "name": "stdout",
     "output_type": "stream",
     "text": [
      " IMO any good player should score on power plays because of the man advantage Very good power play scorers tend to become overrated because their point totals are inflated by power play points tends to expose these overrated players such as Brett Hull John Cullen and Dave Andreychuck Given the opportunity to play power play consistently any player can inflate his totals \n"
     ]
    }
   ],
   "source": [
    "X_final = [re.sub(r\"[^a-zA-Z0-9]+\", ' ', k) for k in X]\n",
    "print(X_final[0])"
   ]
  },
  {
   "cell_type": "code",
   "execution_count": 62,
   "metadata": {},
   "outputs": [],
   "source": [
    "X_train, X_test, y_train, y_test = train_test_split(X_final, y,\n",
    "                                                    random_state=42,\n",
    "                                                    stratify=y,\n",
    "                                                    test_size=0.1)"
   ]
  },
  {
   "cell_type": "markdown",
   "metadata": {},
   "source": [
    "### Feature Extraction"
   ]
  },
  {
   "cell_type": "markdown",
   "metadata": {},
   "source": [
    "    CountVectorizer builds a dictionary of features and transforms documents to feature vectors and does\n",
    "    1. Text preprocessing\n",
    "    2. tokenizing and,\n",
    "    3. filtering of stopwords "
   ]
  },
  {
   "cell_type": "code",
   "execution_count": 68,
   "metadata": {},
   "outputs": [
    {
     "data": {
      "text/plain": [
       "(3581, 25353)"
      ]
     },
     "execution_count": 68,
     "metadata": {},
     "output_type": "execute_result"
    }
   ],
   "source": [
    "from sklearn.feature_extraction.text import CountVectorizer\n",
    "count_vect = CountVectorizer()\n",
    "X_train_counts = count_vect.fit_transform(X_train)\n",
    "X_train_counts.shape"
   ]
  },
  {
   "cell_type": "markdown",
   "metadata": {},
   "source": [
    "    The index value of a word in the vocabulary is linked to its frequency in the whole training corpus."
   ]
  },
  {
   "cell_type": "code",
   "execution_count": 71,
   "metadata": {},
   "outputs": [
    {
     "data": {
      "text/plain": [
       "24454"
      ]
     },
     "execution_count": 71,
     "metadata": {},
     "output_type": "execute_result"
    }
   ],
   "source": [
    "count_vect.vocabulary_.get(u'warranty')"
   ]
  },
  {
   "cell_type": "markdown",
   "metadata": {},
   "source": [
    "    To get Word occurence count/ total no of words vs how infrequently it appears in other documents are all abstracted in TF-IDF"
   ]
  },
  {
   "cell_type": "code",
   "execution_count": 130,
   "metadata": {},
   "outputs": [
    {
     "data": {
      "text/plain": [
       "(3581, 25353)"
      ]
     },
     "execution_count": 130,
     "metadata": {},
     "output_type": "execute_result"
    }
   ],
   "source": [
    "from sklearn.feature_extraction.text import TfidfVectorizer\n",
    "vectorizer = TfidfVectorizer()\n",
    "vectors = vectorizer.fit_transform(X_train)\n",
    "vectors.shape"
   ]
  },
  {
   "cell_type": "markdown",
   "metadata": {},
   "source": [
    "### Multinomial Naive Bayes"
   ]
  },
  {
   "cell_type": "code",
   "execution_count": 132,
   "metadata": {},
   "outputs": [
    {
     "data": {
      "text/plain": [
       "0.8995403669367921"
      ]
     },
     "execution_count": 132,
     "metadata": {},
     "output_type": "execute_result"
    }
   ],
   "source": [
    "from sklearn.naive_bayes import MultinomialNB\n",
    "from sklearn import metrics\n",
    "vectors_test = vectorizer.transform(X_test)\n",
    "clf = MultinomialNB(alpha=.01)\n",
    "clf.fit(vectors, y_train)\n",
    "pred = clf.predict(vectors_test)\n",
    "metrics.f1_score(y_test, pred, average='macro')"
   ]
  },
  {
   "cell_type": "markdown",
   "metadata": {},
   "source": [
    "### Logistic Regression"
   ]
  },
  {
   "cell_type": "code",
   "execution_count": 153,
   "metadata": {},
   "outputs": [
    {
     "data": {
      "text/plain": [
       "0.8637086927409507"
      ]
     },
     "execution_count": 153,
     "metadata": {},
     "output_type": "execute_result"
    }
   ],
   "source": [
    "X_train, X_test, y_train, y_test = train_test_split(X_final, y,\n",
    "                                                    random_state=42,\n",
    "                                                    stratify=y,\n",
    "                                                    test_size=0.1)\n",
    "from sklearn.linear_model import LogisticRegression\n",
    "lr = LogisticRegression()\n",
    "lr.fit(vectors, y_train)\n",
    "y_pred = lr.predict(vectors_test)\n",
    "metrics.f1_score(y_test, y_pred, average='macro')"
   ]
  },
  {
   "cell_type": "markdown",
   "metadata": {},
   "source": [
    "### Performance"
   ]
  },
  {
   "cell_type": "markdown",
   "metadata": {},
   "source": [
    "    Performance of Multinomial Naive Bayes(0.8995403669367921) is better than Logistic Regression(0.8637086927409507)"
   ]
  }
 ],
 "metadata": {
  "kernelspec": {
   "display_name": "Python 3",
   "language": "python",
   "name": "python3"
  },
  "language_info": {
   "codemirror_mode": {
    "name": "ipython",
    "version": 3
   },
   "file_extension": ".py",
   "mimetype": "text/x-python",
   "name": "python",
   "nbconvert_exporter": "python",
   "pygments_lexer": "ipython3",
   "version": "3.7.3"
  }
 },
 "nbformat": 4,
 "nbformat_minor": 2
}
