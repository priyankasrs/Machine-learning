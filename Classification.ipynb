{
 "cells": [
  {
   "cell_type": "markdown",
   "metadata": {},
   "source": [
    "Classification algorithms in machine learning is used to determine the boundary conditions in a training dataset to detetermine target class of each item.\n",
    "\n",
    "It is different from clustering in the sense that in clustering, it is more so about grouping similar things together."
   ]
  },
  {
   "cell_type": "markdown",
   "metadata": {},
   "source": [
    "### Types of Classification Algorithms\n",
    "\n",
    "* Linear Classifiers\n",
    "    * Logistic\n",
    "    * Naive Bayes\n",
    "    * Fisher's Linear\n",
    "* Support Vector Machines\n",
    "* Quadratic Classifiers\n",
    "* Kernel estimation\n",
    "* Decision Trees\n",
    "* Neural Networks\n",
    "* Learning vector quantization"
   ]
  },
  {
   "cell_type": "markdown",
   "metadata": {},
   "source": [
    "### Logistic Regression"
   ]
  },
  {
   "cell_type": "markdown",
   "metadata": {},
   "source": [
    "It is a classification algorithm that estimates discrete values (Binary values like 0/1, yes/no, true/false) based on a given set of independent variables. It predicts the probability of occurence of an event by fitting data to a logit function. Hence it is known as logit regression.\n",
    "\n",
    "The values obtained would always lie between 0 and 1 since it predicts the probability.\n"
   ]
  },
  {
   "cell_type": "code",
   "execution_count": null,
   "metadata": {},
   "outputs": [],
   "source": []
  }
 ],
 "metadata": {
  "kernelspec": {
   "display_name": "Python 3",
   "language": "python",
   "name": "python3"
  },
  "language_info": {
   "codemirror_mode": {
    "name": "ipython",
    "version": 3
   },
   "file_extension": ".py",
   "mimetype": "text/x-python",
   "name": "python",
   "nbconvert_exporter": "python",
   "pygments_lexer": "ipython3",
   "version": "3.7.4"
  }
 },
 "nbformat": 4,
 "nbformat_minor": 2
}
